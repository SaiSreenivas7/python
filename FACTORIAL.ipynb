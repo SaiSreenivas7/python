{
 "cells": [
  {
   "cell_type": "markdown",
   "id": "45740cb9-c580-4d79-aab1-b3877997d3e8",
   "metadata": {},
   "source": [
    "FACTORIAL OF A NUMBER \n",
    "-"
   ]
  },
  {
   "cell_type": "code",
   "execution_count": 2,
   "id": "fea2bb96-b479-4b04-8336-6f3a2ef05d3f",
   "metadata": {},
   "outputs": [
    {
     "name": "stdin",
     "output_type": "stream",
     "text": [
      "ENTER A NUMBER : 5\n"
     ]
    },
    {
     "name": "stdout",
     "output_type": "stream",
     "text": [
      "120\n"
     ]
    }
   ],
   "source": [
    "a=int(input(\"ENTER A NUMBER :\"))\n",
    "f=1\n",
    "for i in range(1,a+1):\n",
    "    f*=i\n",
    "print(f)"
   ]
  }
 ],
 "metadata": {
  "kernelspec": {
   "display_name": "Python 3 (ipykernel)",
   "language": "python",
   "name": "python3"
  },
  "language_info": {
   "codemirror_mode": {
    "name": "ipython",
    "version": 3
   },
   "file_extension": ".py",
   "mimetype": "text/x-python",
   "name": "python",
   "nbconvert_exporter": "python",
   "pygments_lexer": "ipython3",
   "version": "3.12.4"
  }
 },
 "nbformat": 4,
 "nbformat_minor": 5
}
