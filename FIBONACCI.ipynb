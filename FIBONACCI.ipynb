{
 "cells": [
  {
   "cell_type": "markdown",
   "id": "c7b30aed-950f-4710-a68d-ed34ac4c2954",
   "metadata": {},
   "source": [
    "FIBONACCI SERIES\n",
    "-"
   ]
  },
  {
   "cell_type": "code",
   "execution_count": 2,
   "id": "7ca5be7e-459b-409a-8f69-d857d1a7b96c",
   "metadata": {},
   "outputs": [
    {
     "name": "stdin",
     "output_type": "stream",
     "text": [
      "ENTER A NUMBER : 6\n"
     ]
    },
    {
     "name": "stdout",
     "output_type": "stream",
     "text": [
      "0\n",
      "1\n",
      "1\n",
      "2\n",
      "3\n",
      "5\n"
     ]
    }
   ],
   "source": [
    "a=int(input(\"ENTER A NUMBER :\"))\n",
    "c,b=0,1\n",
    "print(c)\n",
    "print(b)\n",
    "for i in range(2,a):\n",
    "    t=c+b\n",
    "    print(t)\n",
    "    c=b\n",
    "    b=t"
   ]
  }
 ],
 "metadata": {
  "kernelspec": {
   "display_name": "Python 3 (ipykernel)",
   "language": "python",
   "name": "python3"
  },
  "language_info": {
   "codemirror_mode": {
    "name": "ipython",
    "version": 3
   },
   "file_extension": ".py",
   "mimetype": "text/x-python",
   "name": "python",
   "nbconvert_exporter": "python",
   "pygments_lexer": "ipython3",
   "version": "3.12.4"
  }
 },
 "nbformat": 4,
 "nbformat_minor": 5
}
