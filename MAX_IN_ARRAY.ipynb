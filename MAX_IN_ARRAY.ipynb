{
 "cells": [
  {
   "cell_type": "markdown",
   "id": "48ff1cb5-0879-44f9-90a4-e9ac0dee79ae",
   "metadata": {},
   "source": [
    "MAXIMUM ELEMENT IN ARRAY\n",
    "-"
   ]
  },
  {
   "cell_type": "code",
   "execution_count": 6,
   "id": "59cd9893-84e8-4a99-8df3-0dd8e4f6c315",
   "metadata": {},
   "outputs": [
    {
     "name": "stdin",
     "output_type": "stream",
     "text": [
      "ENTER ELEMENTS :  5 8 3 9 2 8\n"
     ]
    },
    {
     "name": "stdout",
     "output_type": "stream",
     "text": [
      "THE MAXIMUM ELEMENT IS : 9\n"
     ]
    }
   ],
   "source": [
    "a=list(map(int,input(\"ENTER ELEMENTS : \").split()))\n",
    "print(\"THE MAXIMUM ELEMENT IS :\",max(a))"
   ]
  }
 ],
 "metadata": {
  "kernelspec": {
   "display_name": "Python 3 (ipykernel)",
   "language": "python",
   "name": "python3"
  },
  "language_info": {
   "codemirror_mode": {
    "name": "ipython",
    "version": 3
   },
   "file_extension": ".py",
   "mimetype": "text/x-python",
   "name": "python",
   "nbconvert_exporter": "python",
   "pygments_lexer": "ipython3",
   "version": "3.12.4"
  }
 },
 "nbformat": 4,
 "nbformat_minor": 5
}
