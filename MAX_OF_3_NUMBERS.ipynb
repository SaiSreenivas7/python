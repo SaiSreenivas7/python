{
 "cells": [
  {
   "cell_type": "markdown",
   "id": "596526bd-b7e9-46c5-9987-ae4a7e041ca3",
   "metadata": {},
   "source": [
    "BIGGEST OF 3 NUMBERS \n",
    "-"
   ]
  },
  {
   "cell_type": "code",
   "execution_count": 6,
   "id": "49058c6e-c08e-4e9d-884c-975496274aa0",
   "metadata": {},
   "outputs": [
    {
     "name": "stdin",
     "output_type": "stream",
     "text": [
      "ENTER NUMBER : 4\n",
      "ENTER NUMBER : 8\n",
      "ENTER NUMBER : 2\n"
     ]
    },
    {
     "name": "stdout",
     "output_type": "stream",
     "text": [
      "THE MAXIMUM NUMBER IS : 8\n"
     ]
    }
   ],
   "source": [
    "a=int(input(\"ENTER NUMBER :\"))\n",
    "b=int(input(\"ENTER NUMBER :\"))\n",
    "c=int(input(\"ENTER NUMBER :\"))\n",
    "print(\"THE MAXIMUM NUMBER IS :\",max(a,b,c))"
   ]
  }
 ],
 "metadata": {
  "kernelspec": {
   "display_name": "Python 3 (ipykernel)",
   "language": "python",
   "name": "python3"
  },
  "language_info": {
   "codemirror_mode": {
    "name": "ipython",
    "version": 3
   },
   "file_extension": ".py",
   "mimetype": "text/x-python",
   "name": "python",
   "nbconvert_exporter": "python",
   "pygments_lexer": "ipython3",
   "version": "3.12.4"
  }
 },
 "nbformat": 4,
 "nbformat_minor": 5
}
