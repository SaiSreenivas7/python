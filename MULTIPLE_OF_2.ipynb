{
 "cells": [
  {
   "cell_type": "markdown",
   "id": "93e3e326-6372-406b-a343-c5337093eb00",
   "metadata": {},
   "source": [
    "MULTIPLE OF 2\n",
    "-"
   ]
  },
  {
   "cell_type": "code",
   "execution_count": 1,
   "id": "51b6d7e0-9b21-4b1a-9bb0-de4a3ac96c4c",
   "metadata": {},
   "outputs": [
    {
     "name": "stdin",
     "output_type": "stream",
     "text": [
      "ENTER A NUMBER  5\n"
     ]
    },
    {
     "name": "stdout",
     "output_type": "stream",
     "text": [
      "GIVEN NUMBER IS NOT A MULTIPLE OF 2\n"
     ]
    }
   ],
   "source": [
    "a=int(input(\"ENTER A NUMBER \"))\n",
    "print(\"GIVEN NUMBER IS MULTIPLE OF 2\" if a%2==0 else \"GIVEN NUMBER IS NOT A MULTIPLE OF 2\" )"
   ]
  }
 ],
 "metadata": {
  "kernelspec": {
   "display_name": "Python 3 (ipykernel)",
   "language": "python",
   "name": "python3"
  },
  "language_info": {
   "codemirror_mode": {
    "name": "ipython",
    "version": 3
   },
   "file_extension": ".py",
   "mimetype": "text/x-python",
   "name": "python",
   "nbconvert_exporter": "python",
   "pygments_lexer": "ipython3",
   "version": "3.12.4"
  }
 },
 "nbformat": 4,
 "nbformat_minor": 5
}
