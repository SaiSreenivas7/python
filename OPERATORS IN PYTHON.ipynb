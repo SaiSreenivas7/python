{
 "cells": [
  {
   "cell_type": "markdown",
   "id": "3d20f985-af1e-47ce-a3dd-eb53c99b30fd",
   "metadata": {},
   "source": [
    "OPERATORS IN PYTHON\n",
    "-"
   ]
  },
  {
   "cell_type": "code",
   "execution_count": 26,
   "id": "48f6963f-5a64-4aed-be90-92d1fa9a96b5",
   "metadata": {},
   "outputs": [
    {
     "name": "stdout",
     "output_type": "stream",
     "text": [
      "10 5\n"
     ]
    }
   ],
   "source": [
    "a = 10\n",
    "b = 5\n",
    "print(a,b)"
   ]
  },
  {
   "cell_type": "code",
   "execution_count": 6,
   "id": "d91c733b-200f-4b08-a9e6-a31532649f14",
   "metadata": {},
   "outputs": [
    {
     "name": "stdout",
     "output_type": "stream",
     "text": [
      "Addition: 15\n",
      "Subtraction: 5\n",
      "Multiplication: 50\n",
      "Division: 2.0\n",
      "Modulus: 0\n",
      "Exponentiation: 100000\n",
      "Floor Division: 2\n"
     ]
    }
   ],
   "source": [
    "# Arithmetic Operators\n",
    "print(\"Addition:\", a + b)\n",
    "print(\"Subtraction:\", a - b)\n",
    "print(\"Multiplication:\", a * b)\n",
    "print(\"Division:\", a / b)\n",
    "print(\"Modulus:\", a % b)\n",
    "print(\"Exponentiation:\", a ** b)\n",
    "print(\"Floor Division:\", a // b)"
   ]
  },
  {
   "cell_type": "code",
   "execution_count": 8,
   "id": "99020b58-5ce3-44f0-8b7a-4460cb17799f",
   "metadata": {},
   "outputs": [
    {
     "name": "stdout",
     "output_type": "stream",
     "text": [
      "Equal: False\n",
      "Not Equal: True\n",
      "Greater Than: True\n",
      "Less Than: False\n",
      "Greater Than or Equal To: True\n",
      "Less Than or Equal To: False\n"
     ]
    }
   ],
   "source": [
    "# Comparison Operators\n",
    "print(\"Equal:\", a == b)\n",
    "print(\"Not Equal:\", a != b)\n",
    "print(\"Greater Than:\", a > b)\n",
    "print(\"Less Than:\", a < b)\n",
    "print(\"Greater Than or Equal To:\", a >= b)\n",
    "print(\"Less Than or Equal To:\", a <= b)"
   ]
  },
  {
   "cell_type": "code",
   "execution_count": 10,
   "id": "50945970-2d09-4f2c-a445-ced798d117d9",
   "metadata": {},
   "outputs": [
    {
     "name": "stdout",
     "output_type": "stream",
     "text": [
      "After a += b, a = 15\n",
      "After a -= b, a = 10\n",
      "After a *= b, a = 50\n",
      "After a /= b, a = 10.0\n"
     ]
    }
   ],
   "source": [
    "# Assignment Operators\n",
    "a += b   # a = a + b\n",
    "print(\"After a += b, a =\", a)\n",
    "\n",
    "a -= b   # a = a - b\n",
    "print(\"After a -= b, a =\", a)\n",
    "\n",
    "a *= b   # a = a * b\n",
    "print(\"After a *= b, a =\", a)\n",
    "\n",
    "a /= b   # a = a / b\n",
    "print(\"After a /= b, a =\", a)\n"
   ]
  },
  {
   "cell_type": "code",
   "execution_count": 16,
   "id": "5e2b821f-6845-4182-8f41-8496243ca98e",
   "metadata": {},
   "outputs": [
    {
     "data": {
      "text/plain": [
       "10"
      ]
     },
     "execution_count": 16,
     "metadata": {},
     "output_type": "execute_result"
    }
   ],
   "source": [
    "# Recast 'a' to an integer for bitwise operations\n",
    "a = int(a)\n",
    "a"
   ]
  },
  {
   "cell_type": "code",
   "execution_count": 18,
   "id": "d33a1b1c-7fe5-4207-a0e6-f452d3265d86",
   "metadata": {},
   "outputs": [
    {
     "name": "stdout",
     "output_type": "stream",
     "text": [
      "Logical AND: True\n",
      "Logical OR: True\n",
      "Logical NOT: False\n"
     ]
    }
   ],
   "source": [
    "# Logical Operators\n",
    "print(\"Logical AND:\", a > b and b > 0)\n",
    "print(\"Logical OR:\", a > b or b < 0)\n",
    "print(\"Logical NOT:\", not(a > b))"
   ]
  },
  {
   "cell_type": "code",
   "execution_count": 20,
   "id": "42fa78f7-7b6d-4987-8589-ab0879f0d4a2",
   "metadata": {},
   "outputs": [
    {
     "name": "stdout",
     "output_type": "stream",
     "text": [
      "Bitwise AND: 0\n",
      "Bitwise OR: 15\n",
      "Bitwise XOR: 15\n"
     ]
    }
   ],
   "source": [
    "# Bitwise Operators\n",
    "print(\"Bitwise AND:\", a & b)\n",
    "print(\"Bitwise OR:\", a | b)\n",
    "print(\"Bitwise XOR:\", a ^ b)"
   ]
  },
  {
   "cell_type": "code",
   "execution_count": 22,
   "id": "643cd60b-a0dc-43e9-9c36-beef2b7c0cd1",
   "metadata": {},
   "outputs": [
    {
     "name": "stdout",
     "output_type": "stream",
     "text": [
      "Identity (a is b): False\n",
      "Identity (a is not b): True\n"
     ]
    }
   ],
   "source": [
    "# Identity Operators\n",
    "print(\"Identity (a is b):\", a is b)\n",
    "print(\"Identity (a is not b):\", a is not b)"
   ]
  },
  {
   "cell_type": "code",
   "execution_count": 24,
   "id": "8a606871-ee69-454c-8fec-b9556b45e68b",
   "metadata": {},
   "outputs": [
    {
     "name": "stdout",
     "output_type": "stream",
     "text": [
      "Membership (a in list): True\n",
      "Membership (b in list): True\n"
     ]
    }
   ],
   "source": [
    "# Membership Operators (with lists for demonstration)\n",
    "list_example = [1, 2, 3, 10, 5]\n",
    "print(\"Membership (a in list):\", a in list_example)\n",
    "print(\"Membership (b in list):\", b in list_example)"
   ]
  }
 ],
 "metadata": {
  "kernelspec": {
   "display_name": "Python 3 (ipykernel)",
   "language": "python",
   "name": "python3"
  },
  "language_info": {
   "codemirror_mode": {
    "name": "ipython",
    "version": 3
   },
   "file_extension": ".py",
   "mimetype": "text/x-python",
   "name": "python",
   "nbconvert_exporter": "python",
   "pygments_lexer": "ipython3",
   "version": "3.12.4"
  }
 },
 "nbformat": 4,
 "nbformat_minor": 5
}
