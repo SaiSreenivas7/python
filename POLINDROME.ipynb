{
 "cells": [
  {
   "cell_type": "markdown",
   "id": "c8fcd7e5-6cf1-439b-b7fb-5f96bcbb3e75",
   "metadata": {},
   "source": [
    "PALINDROME\n",
    "-"
   ]
  },
  {
   "cell_type": "code",
   "execution_count": 4,
   "id": "803ab6f7-fbbe-45b0-90bb-166c76bdbdcb",
   "metadata": {},
   "outputs": [
    {
     "name": "stdin",
     "output_type": "stream",
     "text": [
      "enter a string UUU\n"
     ]
    },
    {
     "name": "stdout",
     "output_type": "stream",
     "text": [
      "GIVEN STRING IS PALINDROME \n"
     ]
    }
   ],
   "source": [
    "a=input(\"enter a string\")\n",
    "print(\"GIVEN STRING IS PALINDROME \" if a==a[::-1] else \"GIVEN STRING IS NOT PALINDROMe\")"
   ]
  }
 ],
 "metadata": {
  "kernelspec": {
   "display_name": "Python 3 (ipykernel)",
   "language": "python",
   "name": "python3"
  },
  "language_info": {
   "codemirror_mode": {
    "name": "ipython",
    "version": 3
   },
   "file_extension": ".py",
   "mimetype": "text/x-python",
   "name": "python",
   "nbconvert_exporter": "python",
   "pygments_lexer": "ipython3",
   "version": "3.12.4"
  }
 },
 "nbformat": 4,
 "nbformat_minor": 5
}
