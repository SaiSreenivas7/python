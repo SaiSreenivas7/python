{
 "cells": [
  {
   "cell_type": "markdown",
   "id": "30780b53-e907-4ffe-8018-2b09acb6ae87",
   "metadata": {},
   "source": [
    "PRIME OR NOT\n",
    "-"
   ]
  },
  {
   "cell_type": "code",
   "execution_count": 2,
   "id": "03049e93-bfb6-4ba4-b3ea-c70033a9f624",
   "metadata": {},
   "outputs": [
    {
     "name": "stdin",
     "output_type": "stream",
     "text": [
      "ENTER A NUMBER 7\n"
     ]
    },
    {
     "name": "stdout",
     "output_type": "stream",
     "text": [
      "Given number is prime\n"
     ]
    }
   ],
   "source": [
    "a=int(input(\"ENTER A NUMBER\"))\n",
    "f=True\n",
    "for i in range(2,int(a**0.5)+1):\n",
    "    if a%i==0:\n",
    "        f=False\n",
    "if f:\n",
    "    print(\"Given number is prime\")\n",
    "else:\n",
    "    print(\"Given number is not prime\")"
   ]
  }
 ],
 "metadata": {
  "kernelspec": {
   "display_name": "Python 3 (ipykernel)",
   "language": "python",
   "name": "python3"
  },
  "language_info": {
   "codemirror_mode": {
    "name": "ipython",
    "version": 3
   },
   "file_extension": ".py",
   "mimetype": "text/x-python",
   "name": "python",
   "nbconvert_exporter": "python",
   "pygments_lexer": "ipython3",
   "version": "3.12.4"
  }
 },
 "nbformat": 4,
 "nbformat_minor": 5
}
