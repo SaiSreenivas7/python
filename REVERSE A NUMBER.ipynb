{
 "cells": [
  {
   "cell_type": "markdown",
   "id": "e27e4b09-bd71-4593-aa1a-eefbfab9dbeb",
   "metadata": {},
   "source": [
    "REVERSE A NUMBER\n",
    "-"
   ]
  },
  {
   "cell_type": "code",
   "execution_count": 2,
   "id": "2b375250-6c8a-4664-ac3d-e441e274bee9",
   "metadata": {},
   "outputs": [
    {
     "name": "stdin",
     "output_type": "stream",
     "text": [
      "ENTER A NUMBER  586\n"
     ]
    },
    {
     "name": "stdout",
     "output_type": "stream",
     "text": [
      "685\n"
     ]
    }
   ],
   "source": [
    "a=input(\"ENTER A NUMBER \")\n",
    "print(int(a[::-1]))"
   ]
  }
 ],
 "metadata": {
  "kernelspec": {
   "display_name": "Python 3 (ipykernel)",
   "language": "python",
   "name": "python3"
  },
  "language_info": {
   "codemirror_mode": {
    "name": "ipython",
    "version": 3
   },
   "file_extension": ".py",
   "mimetype": "text/x-python",
   "name": "python",
   "nbconvert_exporter": "python",
   "pygments_lexer": "ipython3",
   "version": "3.12.4"
  }
 },
 "nbformat": 4,
 "nbformat_minor": 5
}
