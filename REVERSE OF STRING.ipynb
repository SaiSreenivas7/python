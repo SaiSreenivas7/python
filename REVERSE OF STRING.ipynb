{
 "cells": [
  {
   "cell_type": "markdown",
   "id": "c21336db-9c8a-4389-a883-04bcf2d083c2",
   "metadata": {},
   "source": [
    "REVERSE A STRING\n",
    "-"
   ]
  },
  {
   "cell_type": "code",
   "execution_count": 4,
   "id": "0a7f67b2-ef47-4534-ae20-e359444a3c12",
   "metadata": {},
   "outputs": [
    {
     "name": "stdin",
     "output_type": "stream",
     "text": [
      "ENTER A STRING : AYOBHSEJAR\n"
     ]
    },
    {
     "name": "stdout",
     "output_type": "stream",
     "text": [
      "THE REVERSE OF GIVEN STRING IS :  RAJESHBOYA\n"
     ]
    }
   ],
   "source": [
    "a=input(\"ENTER A STRING :\")\n",
    "print(\"THE REVERSE OF GIVEN STRING IS : \",a[::-1])"
   ]
  }
 ],
 "metadata": {
  "kernelspec": {
   "display_name": "Python 3 (ipykernel)",
   "language": "python",
   "name": "python3"
  },
  "language_info": {
   "codemirror_mode": {
    "name": "ipython",
    "version": 3
   },
   "file_extension": ".py",
   "mimetype": "text/x-python",
   "name": "python",
   "nbconvert_exporter": "python",
   "pygments_lexer": "ipython3",
   "version": "3.12.4"
  }
 },
 "nbformat": 4,
 "nbformat_minor": 5
}
