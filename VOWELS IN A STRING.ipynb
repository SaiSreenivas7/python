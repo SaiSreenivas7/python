{
 "cells": [
  {
   "cell_type": "markdown",
   "id": "330a7672-5466-4abe-a10a-56fb72fadb98",
   "metadata": {},
   "source": [
    "NUMBER OF VOWELS IN GIVEN STRING\n",
    "-"
   ]
  },
  {
   "cell_type": "code",
   "execution_count": 2,
   "id": "cf55ec4b-3023-4640-a79a-3952b8d1de88",
   "metadata": {},
   "outputs": [
    {
     "name": "stdin",
     "output_type": "stream",
     "text": [
      "ENTER A STRING : rajeshboya\n"
     ]
    },
    {
     "name": "stdout",
     "output_type": "stream",
     "text": [
      "THE NUMBER OF VOWELS IN GIVEN STRING IS : 4\n"
     ]
    }
   ],
   "source": [
    "a=input(\"ENTER A STRING :\")\n",
    "c=0\n",
    "b=\"aeiouAEIOU\"\n",
    "for i in a:\n",
    "    if i in b:\n",
    "        c+=1\n",
    "print(\"THE NUMBER OF VOWELS IN GIVEN STRING IS :\",c)\n",
    "    "
   ]
  }
 ],
 "metadata": {
  "kernelspec": {
   "display_name": "Python 3 (ipykernel)",
   "language": "python",
   "name": "python3"
  },
  "language_info": {
   "codemirror_mode": {
    "name": "ipython",
    "version": 3
   },
   "file_extension": ".py",
   "mimetype": "text/x-python",
   "name": "python",
   "nbconvert_exporter": "python",
   "pygments_lexer": "ipython3",
   "version": "3.12.4"
  }
 },
 "nbformat": 4,
 "nbformat_minor": 5
}
